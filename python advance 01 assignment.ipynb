{
 "cells": [
  {
   "cell_type": "raw",
   "id": "afe91f70",
   "metadata": {},
   "source": [
    "Q1. What is the purpose of Python's OOP?"
   ]
  },
  {
   "cell_type": "raw",
   "id": "7497beac",
   "metadata": {},
   "source": [
    "ans:  In Python, object-oriented Programming(oops) is programming paradigm that uses objects and classes programming. it aims to implement real-world entities like inheritance,polymorphisms,encapsulation,etc. in the programming.The main cocept of oops is to bind the data and the functions that work on tht together as a single unit so that no other part of the code can access this data."
   ]
  },
  {
   "cell_type": "code",
   "execution_count": null,
   "id": "68ed1487",
   "metadata": {},
   "outputs": [],
   "source": []
  },
  {
   "cell_type": "code",
   "execution_count": null,
   "id": "4194706b",
   "metadata": {},
   "outputs": [],
   "source": []
  },
  {
   "cell_type": "raw",
   "id": "4ce0c3e6",
   "metadata": {},
   "source": [
    "Q2. Where does an inheritance search look for an attribute?"
   ]
  },
  {
   "cell_type": "raw",
   "id": "7d8058e3",
   "metadata": {},
   "source": [
    "ans:  The inheritance serach is simply a search of the tree from bottom to top looking for the lowest occurrence of an attribute name."
   ]
  },
  {
   "cell_type": "code",
   "execution_count": null,
   "id": "7d944569",
   "metadata": {},
   "outputs": [],
   "source": []
  },
  {
   "cell_type": "code",
   "execution_count": null,
   "id": "b5955f28",
   "metadata": {},
   "outputs": [],
   "source": []
  },
  {
   "cell_type": "raw",
   "id": "b33d007e",
   "metadata": {},
   "source": [
    "Q3. How do you distinguish between a class object and an instance object?"
   ]
  },
  {
   "cell_type": "raw",
   "id": "3bfe6177",
   "metadata": {},
   "source": [
    "ans: An object is an instance of a class. A class is like a blueprint while an instance is a copy of the class with actual values.it's not an idea anymore, it's an actul dog, like a dog of breed pug who's seven years old.you can have many dogs to create many differnt instance, but without the class as a guide, you would be lost, not knowing what information is required."
   ]
  },
  {
   "cell_type": "raw",
   "id": "14f5afcd",
   "metadata": {},
   "source": [
    "An object consists of:\n",
    ">>>state: it is represented by the attributes of an object.it also reflects the properties od an object.\n",
    ">>>Behavior: it is represented by the methods of an object.it also reflects the responce of an object object.\n",
    ">>>identity:it gives a unique name to an object and enables one object to interact with other object."
   ]
  },
  {
   "cell_type": "raw",
   "id": "2af45df5",
   "metadata": {},
   "source": [
    "Instance onject:\n",
    ">>>To create instance of a class, you call using class name and pass in whatever arguments its init method accepts."
   ]
  },
  {
   "cell_type": "code",
   "execution_count": null,
   "id": "9a708811",
   "metadata": {},
   "outputs": [],
   "source": []
  },
  {
   "cell_type": "code",
   "execution_count": null,
   "id": "a316c004",
   "metadata": {},
   "outputs": [],
   "source": []
  },
  {
   "cell_type": "raw",
   "id": "6f2fdd84",
   "metadata": {},
   "source": [
    "Q4. What makes the first argument in a class’s method function special?"
   ]
  },
  {
   "cell_type": "raw",
   "id": "91551853",
   "metadata": {},
   "source": [
    "ans: The first argument of every  class method, including init,is always a refernce to the current instance of the class. by convention, this arguments is aklways named self. in the init method.self refers to the newly created object in other class methods, it refers to he instnce whoes method was called."
   ]
  },
  {
   "cell_type": "code",
   "execution_count": null,
   "id": "694a38c7",
   "metadata": {},
   "outputs": [],
   "source": []
  },
  {
   "cell_type": "code",
   "execution_count": null,
   "id": "a0602aec",
   "metadata": {},
   "outputs": [],
   "source": []
  },
  {
   "cell_type": "raw",
   "id": "d2b88bee",
   "metadata": {},
   "source": [
    "Q5. What is the purpose of the __init__ method?"
   ]
  },
  {
   "cell_type": "raw",
   "id": "ec1d31d9",
   "metadata": {},
   "source": [
    "ans: The init function is called every time an object is created from a class. The init method lets the class initialize the object attributes and serves no other purpose.it is only within classes."
   ]
  },
  {
   "cell_type": "code",
   "execution_count": null,
   "id": "d48ec128",
   "metadata": {},
   "outputs": [],
   "source": []
  },
  {
   "cell_type": "code",
   "execution_count": null,
   "id": "f915ac36",
   "metadata": {},
   "outputs": [],
   "source": []
  },
  {
   "cell_type": "raw",
   "id": "a95dd506",
   "metadata": {},
   "source": [
    "Q6. What is the process for creating a class instance?"
   ]
  },
  {
   "cell_type": "raw",
   "id": "b4b4a6fa",
   "metadata": {},
   "source": [
    "ans: Define a class first then create the functions after the class is made then create the object for calling the functions as per requirements."
   ]
  },
  {
   "cell_type": "code",
   "execution_count": 1,
   "id": "20d1895a",
   "metadata": {},
   "outputs": [
    {
     "name": "stdout",
     "output_type": "stream",
     "text": [
      "abc\n"
     ]
    }
   ],
   "source": [
    "class c:\n",
    "    def __init__(self,data):\n",
    "        self.data = data\n",
    "        \n",
    "an_instance = c(\"abc\")\n",
    "print(an_instance.data)"
   ]
  },
  {
   "cell_type": "code",
   "execution_count": null,
   "id": "99aae20f",
   "metadata": {},
   "outputs": [],
   "source": []
  },
  {
   "cell_type": "code",
   "execution_count": null,
   "id": "b45481d9",
   "metadata": {},
   "outputs": [],
   "source": []
  },
  {
   "cell_type": "raw",
   "id": "41151dc8",
   "metadata": {},
   "source": [
    "Q7. What is the process for creating a class?"
   ]
  },
  {
   "cell_type": "raw",
   "id": "b80e5d5f",
   "metadata": {},
   "source": [
    "ans: A class is like an object constructor, or a \"blueprint\" for creating object."
   ]
  },
  {
   "cell_type": "code",
   "execution_count": 2,
   "id": "f34e366e",
   "metadata": {},
   "outputs": [
    {
     "name": "stdout",
     "output_type": "stream",
     "text": [
      "5\n"
     ]
    }
   ],
   "source": [
    "class MyClass:\n",
    "    x = 5\n",
    "    \n",
    "p1 = MyClass()\n",
    "print(p1.x)"
   ]
  },
  {
   "cell_type": "code",
   "execution_count": null,
   "id": "acae26b4",
   "metadata": {},
   "outputs": [],
   "source": []
  },
  {
   "cell_type": "code",
   "execution_count": null,
   "id": "4b814878",
   "metadata": {},
   "outputs": [],
   "source": []
  },
  {
   "cell_type": "raw",
   "id": "c9edde29",
   "metadata": {},
   "source": [
    "Q8. How would you define the superclasses of a class?"
   ]
  },
  {
   "cell_type": "raw",
   "id": "649d567f",
   "metadata": {},
   "source": [
    "ans: The class from which a class inherits is called the parent or superclass.A class which inherits from a  superclass is called a subclass, also called heir class or chiled class.Superclasees are sometimes called ancestors as well."
   ]
  },
  {
   "cell_type": "code",
   "execution_count": null,
   "id": "ebd31fe1",
   "metadata": {},
   "outputs": [],
   "source": []
  },
  {
   "cell_type": "code",
   "execution_count": null,
   "id": "b08174d7",
   "metadata": {},
   "outputs": [],
   "source": []
  }
 ],
 "metadata": {
  "kernelspec": {
   "display_name": "Python 3",
   "language": "python",
   "name": "python3"
  },
  "language_info": {
   "codemirror_mode": {
    "name": "ipython",
    "version": 3
   },
   "file_extension": ".py",
   "mimetype": "text/x-python",
   "name": "python",
   "nbconvert_exporter": "python",
   "pygments_lexer": "ipython3",
   "version": "3.8.8"
  }
 },
 "nbformat": 4,
 "nbformat_minor": 5
}
